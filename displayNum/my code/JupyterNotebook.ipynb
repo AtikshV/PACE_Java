{
 "cells": [
  {
   "cell_type": "code",
   "execution_count": 2,
   "metadata": {},
   "outputs": [],
   "source": [
    "%matplotlib inline\n",
    "%config InlineBackend.figure_format = 'retina'\n"
   ]
  }
 ],
 "metadata": {
  "kernelspec": {
   "display_name": "catPainting",
   "language": "python",
   "name": "python3"
  },
  "language_info": {
   "codemirror_mode": {
    "name": "ipython",
    "version": 3
   },
   "file_extension": ".py",
   "mimetype": "text/x-python",
   "name": "python",
   "nbconvert_exporter": "python",
   "pygments_lexer": "ipython3",
   "version": "3.10.8 | packaged by conda-forge | (main, Nov 24 2022, 14:07:00) [MSC v.1916 64 bit (AMD64)]"
  },
  "orig_nbformat": 4,
  "vscode": {
   "interpreter": {
    "hash": "027991485f8132e295d193eed9c94725c041d08dcc2245067b88736daa5da7cf"
   }
  }
 },
 "nbformat": 4,
 "nbformat_minor": 2
}
